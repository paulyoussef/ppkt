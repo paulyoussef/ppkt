{
 "cells": [
  {
   "cell_type": "code",
   "execution_count": null,
   "metadata": {},
   "outputs": [],
   "source": [
    "import numpy as np\n",
    "import re\n",
    "from pathlib import Path\n",
    "import random\n",
    "import pandas as pd\n",
    "\n",
    "from datasets import load_dataset\n",
    "\n",
    "import torch\n",
    "\n",
    "from transformers import (\n",
    "    BertModel,\n",
    "    AutoTokenizer,\n",
    ")\n",
    "\n",
    "from sklearn.preprocessing import LabelEncoder\n",
    "from sklearn.metrics import classification_report\n"
   ]
  },
  {
   "cell_type": "code",
   "execution_count": null,
   "metadata": {},
   "outputs": [],
   "source": [
    "import os \n",
    "os.environ[\"CUDA_VISIBLE_DEVICES\"] = \"1\"\n",
    "device = 'cuda' if torch.cuda.is_available() else 'cpu'\n",
    "torch.cuda.empty_cache()\n",
    "\n",
    "import sys\n",
    "sys.path.append('../utils')\n",
    "\n",
    "from utils import set_seed\n",
    "set_seed(42)\n",
    "\n",
    "lm_ap = './AP/best/'\n",
    "mednli_none = './MedNLI/best/none/'\n",
    "mednli_even_six = './MedNLI/best/even-6/'\n",
    "mednli_even_three= './MedNLI/best/even-3/'\n",
    "\n",
    "lms = {\n",
    "    'teacher' : lm_ap,\n",
    "    'student-none': mednli_none,\n",
    "    'student-even-6': mednli_even_six, \n",
    "    'student-even-3': mednli_even_three,\n",
    "    'pretrained' : 'bert-base-cased'\n",
    "}\n",
    "\n",
    "lm_name = 'student-even-6' # 'student-even-3' # \"bert-base-cased\"\n",
    "represntation_type = 'cls' # cls or mean\n",
    "replacement_strategy = 'other_random_entity' # 'entity_type' or 'other_random_entity'\n",
    "max_instances_per_class = 100\n",
    "split = 'train'\n",
    "num_tokens_to_replace = 2\n",
    "\n",
    "lm_name_path = lm_name, lms[lm_name]\n",
    "\n",
    "OUT_PATH = '../output/{}/'.format(lm_name_path[1])\n",
    "AP_TRAIN_PATH = './ap/train.csv'"
   ]
  },
  {
   "cell_type": "code",
   "execution_count": null,
   "metadata": {},
   "outputs": [],
   "source": [
    "import datasets \n",
    "from datasets import disable_caching\n",
    "\n",
    "disable_caching()"
   ]
  },
  {
   "cell_type": "code",
   "execution_count": null,
   "metadata": {},
   "outputs": [],
   "source": [
    "def get_cls_repr(model, dl):\n",
    "    cls_reprs = None\n",
    "    model.eval()\n",
    "    for i, batch in enumerate(dl):\n",
    "        batch = {k: v.to(device) for k, v in batch.items()}\n",
    "        with torch.no_grad():\n",
    "            outputs = model(**batch, output_hidden_states=True)\n",
    "            # hidden states from the last layer: \n",
    "            hidden_states_lst_lyr = outputs.hidden_states[-1]\n",
    "            # cls repr:  32 x 768\n",
    "            cls_repr = hidden_states_lst_lyr[:,0,:]\n",
    "            if i == 0:\n",
    "                cls_reprs = cls_repr.cpu().numpy()\n",
    "            else:\n",
    "                cls_reprs = np.append(cls_reprs, cls_repr.cpu().numpy(), axis=0)\n",
    "    return cls_reprs\n",
    "\n",
    "def get_mean_repr(model, dl):\n",
    "    mean_reprs = None\n",
    "    model.eval()\n",
    "    for i, batch in enumerate(dl):\n",
    "        batch = {k: v.to(device) for k, v in batch.items()}\n",
    "        with torch.no_grad():\n",
    "            outputs = model(**batch, output_hidden_states=True)\n",
    "            # hidden states from the last layer: \n",
    "            hidden_states_lst_lyr = outputs.hidden_states[-1] # shape 32x512x768\n",
    "            attention_masks_broadcasted = batch['attention_mask'].unsqueeze(-1) # shape 32x512x1\n",
    "\n",
    "            hidden_representations_masked = hidden_states_lst_lyr * attention_masks_broadcasted  # shape: 32x512x768\n",
    "            # sum hidden representaions \n",
    "            sum_non_masked = hidden_representations_masked.sum(dim=1) # 32x768\n",
    "            count_non_masked = attention_masks_broadcasted.sum(dim=1) # 32x1\n",
    "\n",
    "            average_representations = sum_non_masked / count_non_masked # 32x768\n",
    "\n",
    "            if i == 0:\n",
    "                mean_reprs = average_representations.cpu().numpy()\n",
    "            else:\n",
    "                mean_reprs = np.append(mean_reprs, average_representations.cpu().numpy(), axis=0)\n",
    "    return mean_reprs"
   ]
  },
  {
   "attachments": {},
   "cell_type": "markdown",
   "metadata": {},
   "source": [
    "Models training/loading"
   ]
  },
  {
   "cell_type": "markdown",
   "metadata": {},
   "source": [
    "Load AP Dataset"
   ]
  },
  {
   "cell_type": "code",
   "execution_count": null,
   "metadata": {},
   "outputs": [],
   "source": [
    "train_df = pd.read_csv(AP_TRAIN_PATH)\n",
    "train_unique = train_df.drop_duplicates(subset='Assessment', keep=\"first\")\n",
    "train_df.to_csv('train_unique.csv')\n",
    "\n",
    "data_files = {\n",
    "    \"train\": './train_unique.csv',\n",
    "\n",
    "}\n",
    "data = load_dataset(\"csv\", data_files=data_files)\n",
    "\n",
    "LABEL_ENCODER = LabelEncoder()\n",
    "LABEL_ENCODER.fit(data[split]['Relation'])\n",
    "LABEL_ENCODER.classes_\n"
   ]
  },
  {
   "cell_type": "code",
   "execution_count": null,
   "metadata": {},
   "outputs": [],
   "source": [
    "import stanza\n",
    "nlp = stanza.Pipeline('en', package='mimic', processors={'ner': 'i2b2'})\n",
    "\n",
    "# collect all entities\n",
    "entities_vocab = {}\n",
    "\n",
    "for a in data['train']['Assessment']: \n",
    "    doc = nlp(a)\n",
    "    for e in doc.ents: \n",
    "        entities_vocab[e.type.lower()] = entities_vocab.get(e.type.lower(), []) + [e.text]\n",
    "\n",
    "for p in data['train']['Plan Subsection']: \n",
    "    doc = nlp(p)\n",
    "    for e in doc.ents: \n",
    "        entities_vocab[e.type.lower()] = entities_vocab.get(e.type.lower(), []) + [e.text]\n",
    "\n",
    "for k, v in entities_vocab.items():\n",
    "    entities_vocab[k] = list(set(v))"
   ]
  },
  {
   "cell_type": "code",
   "execution_count": null,
   "metadata": {},
   "outputs": [],
   "source": [
    "entities_vocab = {}\n",
    "\n",
    "for a in data['train']['Assessment']: \n",
    "    doc = nlp(a)\n",
    "    for e in doc.ents: \n",
    "        entities_vocab[e.type.lower()] = entities_vocab.get(e.type.lower(), []) + [e.text]\n",
    "\n",
    "for p in data['train']['Plan Subsection']: \n",
    "    doc = nlp(p)\n",
    "    for e in doc.ents: \n",
    "        entities_vocab[e.type.lower()] = entities_vocab.get(e.type.lower(), []) + [e.text]\n",
    "\n",
    "for k, v in entities_vocab.items():\n",
    "    entities_vocab[k] = list(set(v))"
   ]
  },
  {
   "cell_type": "markdown",
   "metadata": {},
   "source": [
    "AP Preprocessing"
   ]
  },
  {
   "cell_type": "code",
   "execution_count": null,
   "metadata": {},
   "outputs": [],
   "source": [
    "tokenizer = AutoTokenizer.from_pretrained(\n",
    "    lm_name_path[1],\n",
    "    do_lower_case=False\n",
    ")\n",
    "\n",
    "if lm_name_path[1] == 'bert-base-cased':\n",
    "    tokenizer.add_tokens(['@@PHI@@'], special_tokens=True)\n",
    "\n",
    "def remove_entities(x, replacement_strategy = 'entity_type'):\n",
    "\n",
    "    doc = nlp(x)\n",
    "    original = x\n",
    "    replaced_tokens = 0\n",
    "\n",
    "    #vocab = list(tokenizer.get_vocab().keys())\n",
    "    for e in reversed(doc.ents):\n",
    "        if e.text.lower() == e.type.lower():\n",
    "            continue \n",
    "\n",
    "        to_replace = original[e.start_char:]        \n",
    "\n",
    "        if replacement_strategy == 'entity_type':\n",
    "            tmp = to_replace.replace(e.text, e.type.lower(), 1)\n",
    "            replaced_tokens += 1\n",
    "        elif replacement_strategy == 'other_random_entity':    \n",
    "            while True:\n",
    "                replacement_token = random.choice(entities_vocab[e.type.lower()]).replace('\\n', ' ')\n",
    "                if replacement_token.lower() != e.text.lower():\n",
    "                    break\n",
    "            tmp = to_replace.replace(e.text, replacement_token, 1)\n",
    "            replaced_tokens += 1\n",
    "        else:\n",
    "            raise ValueError\n",
    "\n",
    "        replaced = original[:e._start_char] + tmp\n",
    "\n",
    "        if original == replaced: \n",
    "            raise ValueError\n",
    "        else:\n",
    "            original = replaced \n",
    "        \n",
    "        if replaced_tokens == num_tokens_to_replace:\n",
    "            return original\n",
    "            \n",
    "    return original "
   ]
  },
  {
   "cell_type": "code",
   "execution_count": null,
   "metadata": {},
   "outputs": [],
   "source": [
    "PHI_PATTERN = re.compile(r'\\[\\*\\*[^\\]]+\\*\\*\\]')\n",
    "\n",
    "def preprocess(row):   \n",
    "    d = {\n",
    "        'Assessment': PHI_PATTERN.sub('@@PHI@@', row['Assessment']),\n",
    "        'Plan Subsection': PHI_PATTERN.sub('@@PHI@@', row['Plan Subsection']),\n",
    "    }\n",
    "\n",
    "    d['assessment w/o ents'] = remove_entities(d['Assessment'], replacement_strategy)\n",
    "    d['plan w/o ents'] = remove_entities(d['Plan Subsection'], replacement_strategy)\n",
    "\n",
    "    if row['Relation']:\n",
    "        d['label'] = LABEL_ENCODER.transform([row['Relation']])[0]\n",
    "    else:\n",
    "        d['label'] = 0 # if we have no label (during test), we just use a default label of 0\n",
    "    \n",
    "    return d\n",
    "\n",
    "def tokenize_pos(examples):\n",
    "    return tokenizer(\n",
    "        examples['Assessment'],\n",
    "        examples['Plan Subsection'],\n",
    "        truncation=True,\n",
    "        max_length=512, \n",
    "        padding='max_length'\n",
    "    )\n",
    "\n",
    "def tokenize_neg(examples):\n",
    "    return tokenizer( \n",
    "        examples['assessment w/o ents'],\n",
    "        examples['plan w/o ents'],\n",
    "        truncation=True,\n",
    "        max_length=512, \n",
    "        padding='max_length'\n",
    "    )"
   ]
  },
  {
   "cell_type": "code",
   "execution_count": null,
   "metadata": {},
   "outputs": [],
   "source": [
    "data.cleanup_cache_files()\n",
    "data = data.map(preprocess, load_from_cache_file=False)\n",
    "data_pos = data.map(tokenize_pos, batched=True, load_from_cache_file=False)\n",
    "data_neg = data.map(tokenize_neg, batched=True, load_from_cache_file=False)"
   ]
  },
  {
   "cell_type": "code",
   "execution_count": null,
   "metadata": {},
   "outputs": [],
   "source": [
    "tokenizer.decode(data_pos[split][0]['input_ids'])"
   ]
  },
  {
   "cell_type": "code",
   "execution_count": null,
   "metadata": {},
   "outputs": [],
   "source": [
    "tokenizer.decode(data_neg[split][0]['input_ids'])"
   ]
  },
  {
   "cell_type": "code",
   "execution_count": null,
   "metadata": {},
   "outputs": [],
   "source": [
    "# https://huggingface.co/docs/datasets/v1.11.0/quicktour.html\n",
    "dataset_pos = data_pos[split].map(lambda examples: {'labels': examples['label']}, batched=True)\n",
    "dataset_pos.set_format(type='torch', columns=['input_ids', 'token_type_ids', 'attention_mask'])\n",
    "dataloader_pos = torch.utils.data.DataLoader(dataset_pos, batch_size=32)\n",
    "\n",
    "dataset_neg = data_neg[split].map(lambda examples: {'labels': examples['label']}, batched=True)\n",
    "dataset_neg.set_format(type='torch', columns=['input_ids', 'token_type_ids', 'attention_mask'])\n",
    "dataloader_neg = torch.utils.data.DataLoader(dataset_neg, batch_size=32)"
   ]
  },
  {
   "attachments": {},
   "cell_type": "markdown",
   "metadata": {},
   "source": [
    "Load Model\n",
    "\n",
    "\n"
   ]
  },
  {
   "cell_type": "code",
   "execution_count": null,
   "metadata": {},
   "outputs": [],
   "source": [
    "model = BertModel.from_pretrained(lm_name_path[1]).to(device)\n",
    "\n",
    "if lm_name_path[1] == 'bert-base-cased':\n",
    "    model.resize_token_embeddings(len(tokenizer))\n",
    "\n"
   ]
  },
  {
   "cell_type": "code",
   "execution_count": null,
   "metadata": {},
   "outputs": [],
   "source": [
    "def get_cls_repr(model, dl):\n",
    "    cls_reprs = None\n",
    "    model.eval()\n",
    "    for i, batch in enumerate(dl):\n",
    "        batch = {k: v.to(device) for k, v in batch.items()}\n",
    "        with torch.no_grad():\n",
    "            outputs = model(**batch, output_hidden_states=True)\n",
    "            # hidden states from the last layer: \n",
    "            hidden_states_lst_lyr = outputs.hidden_states[-1]\n",
    "            # cls repr:  32 x 768\n",
    "            cls_repr = hidden_states_lst_lyr[:,0,:]\n",
    "            if i == 0:\n",
    "                cls_reprs = cls_repr.cpu().numpy()\n",
    "            else:\n",
    "                cls_reprs = np.append(cls_reprs, cls_repr.cpu().numpy(), axis=0)\n",
    "    return cls_reprs\n",
    "\n",
    "def get_mean_repr(model, dl):\n",
    "    mean_reprs = None\n",
    "    model.eval()\n",
    "    for i, batch in enumerate(dl):\n",
    "        batch = {k: v.to(device) for k, v in batch.items()}\n",
    "        with torch.no_grad():\n",
    "            outputs = model(**batch, output_hidden_states=True)\n",
    "            # hidden states from the last layer: \n",
    "            hidden_states_lst_lyr = outputs.hidden_states[-1] # shape 32x512x768\n",
    "            attention_masks_broadcasted = batch['attention_mask'].unsqueeze(-1) # shape 32x512x1\n",
    "\n",
    "            hidden_representations_masked = hidden_states_lst_lyr * attention_masks_broadcasted  # shape: 32x512x768\n",
    "            # sum hidden representaions \n",
    "            sum_non_masked = hidden_representations_masked.sum(dim=1) # 32x768\n",
    "            count_non_masked = attention_masks_broadcasted.sum(dim=1) # 32x1\n",
    "\n",
    "            average_representations = sum_non_masked / count_non_masked # 32x768\n",
    "\n",
    "            if i == 0:\n",
    "                mean_reprs = average_representations.cpu().numpy()\n",
    "            else:\n",
    "                mean_reprs = np.append(mean_reprs, average_representations.cpu().numpy(), axis=0)\n",
    "    return mean_reprs"
   ]
  },
  {
   "cell_type": "code",
   "execution_count": null,
   "metadata": {},
   "outputs": [],
   "source": [
    "if represntation_type == 'cls':\n",
    "    reprs_pos = get_cls_repr(model, dataloader_pos)\n",
    "    reprs_neg = get_cls_repr(model, dataloader_neg)\n",
    "elif represntation_type == 'mean':\n",
    "    reprs_pos = get_mean_repr(model, dataloader_pos)\n",
    "    reprs_neg = get_mean_repr(model, dataloader_neg)\n",
    "else:\n",
    "    raise ValueError"
   ]
  },
  {
   "cell_type": "code",
   "execution_count": null,
   "metadata": {},
   "outputs": [],
   "source": [
    "reprs_pos.shape"
   ]
  },
  {
   "attachments": {},
   "cell_type": "markdown",
   "metadata": {},
   "source": [
    "Training Set Probing"
   ]
  },
  {
   "cell_type": "code",
   "execution_count": null,
   "metadata": {},
   "outputs": [],
   "source": [
    "# combinging pos and neg data\n",
    "num_instances = min(max_instances_per_class, len(reprs_pos))\n",
    "X = np.concatenate((reprs_pos[:num_instances], reprs_neg[:num_instances]), axis=0)\n",
    "y = [1]*num_instances + [0]*num_instances"
   ]
  },
  {
   "cell_type": "code",
   "execution_count": null,
   "metadata": {},
   "outputs": [],
   "source": [
    "from sklearn.utils import shuffle\n",
    "random_state = 23\n",
    "X_shuffled, y_shuffled = shuffle(X, y, random_state = random_state)"
   ]
  },
  {
   "cell_type": "code",
   "execution_count": null,
   "metadata": {},
   "outputs": [],
   "source": [
    "len(X_shuffled)"
   ]
  },
  {
   "cell_type": "code",
   "execution_count": null,
   "metadata": {},
   "outputs": [],
   "source": [
    "from sklearn.model_selection import cross_validate, StratifiedKFold, KFold\n",
    "from sklearn.linear_model import LogisticRegression\n",
    "\n",
    "folds = StratifiedKFold(n_splits=4, shuffle=True, random_state=random_state)\n",
    "\n",
    "clf = LogisticRegression(penalty = 'l1', max_iter=500, solver='saga')\n",
    "\n",
    "lr_scores = cross_validate(clf, X_shuffled, y_shuffled, cv=folds, scoring=['f1_macro', 'accuracy'], return_estimator = True)\n"
   ]
  },
  {
   "cell_type": "code",
   "execution_count": null,
   "metadata": {},
   "outputs": [],
   "source": [
    "print(lr_scores['test_f1_macro'])\n",
    "mean_accuracy = np.round(np.mean(lr_scores['test_f1_macro'])*100,2)\n",
    "std = np.round(np.std(lr_scores['test_f1_macro'])*100,2)\n",
    "print(mean_accuracy)"
   ]
  },
  {
   "cell_type": "code",
   "execution_count": null,
   "metadata": {},
   "outputs": [],
   "source": [
    "with open('./probing_results.csv', 'a') as f:\n",
    "    f.write(f'{split},{lm_name_path[0]},{replacement_strategy},{represntation_type},{num_instances},{mean_accuracy},{std}\\n')"
   ]
  }
 ],
 "metadata": {
  "kernelspec": {
   "display_name": "Python 3.9.12 ('soapnotes')",
   "language": "python",
   "name": "python3"
  },
  "language_info": {
   "codemirror_mode": {
    "name": "ipython",
    "version": 3
   },
   "file_extension": ".py",
   "mimetype": "text/x-python",
   "name": "python",
   "nbconvert_exporter": "python",
   "pygments_lexer": "ipython3",
   "version": "3.9.12"
  },
  "orig_nbformat": 4,
  "vscode": {
   "interpreter": {
    "hash": "bf027a43a3fb0ff19c7f27db1c676521a8a29705b1546052c9305452682fdd7b"
   }
  }
 },
 "nbformat": 4,
 "nbformat_minor": 2
}
